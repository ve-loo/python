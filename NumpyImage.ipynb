{
 "cells": [
  {
   "cell_type": "code",
   "execution_count": null,
   "metadata": {},
   "outputs": [],
   "source": [
    "图像的数组表示"
   ]
  },
  {
   "cell_type": "code",
   "execution_count": 4,
   "metadata": {},
   "outputs": [],
   "source": [
    "from PIL import Image"
   ]
  },
  {
   "cell_type": "code",
   "execution_count": 5,
   "metadata": {},
   "outputs": [],
   "source": [
    "import numpy as np"
   ]
  },
  {
   "cell_type": "code",
   "execution_count": 11,
   "metadata": {},
   "outputs": [],
   "source": [
    "im = np.array(Image.open(\"C:/Users/asus-1/Desktop/2020learn/Numpy1/image1.jpg\"))"
   ]
  },
  {
   "cell_type": "code",
   "execution_count": 13,
   "metadata": {},
   "outputs": [
    {
     "data": {
      "text/plain": [
       "(2160, 3840, 3)"
      ]
     },
     "execution_count": 13,
     "metadata": {},
     "output_type": "execute_result"
    }
   ],
   "source": [
    "im.shape # 具体形状（高度，宽度，RGB值）"
   ]
  },
  {
   "cell_type": "code",
   "execution_count": 14,
   "metadata": {},
   "outputs": [
    {
     "data": {
      "text/plain": [
       "dtype('uint8')"
      ]
     },
     "execution_count": 14,
     "metadata": {},
     "output_type": "execute_result"
    }
   ],
   "source": [
    "im.dtype # 元素数据类型"
   ]
  },
  {
   "cell_type": "code",
   "execution_count": null,
   "metadata": {},
   "outputs": [],
   "source": [
    "图像的变换"
   ]
  },
  {
   "cell_type": "code",
   "execution_count": 17,
   "metadata": {},
   "outputs": [],
   "source": [
    "from PIL import Image\n",
    "import numpy as np\n",
    "a = np.array(Image.open(\"C:/Users/asus-1/Desktop/2020learn/Numpy1/image1.jpg\"))\n",
    "b = [255, 255, 255] - a # RGB值做运算，生成新的RGB值\n",
    "im = Image.fromarray(b.astype('uint8'))\n",
    "im.save(\"C:/Users/asus-1/Desktop/2020learn/Numpy1/image2.jpg\")"
   ]
  },
  {
   "cell_type": "code",
   "execution_count": null,
   "metadata": {},
   "outputs": [],
   "source": []
  },
  {
   "cell_type": "code",
   "execution_count": 20,
   "metadata": {},
   "outputs": [],
   "source": [
    "a = np.array(Image.open(\"C:/Users/asus-1/Desktop/2020learn/Numpy1/image1.jpg\").convert('L'))\n",
    "c = 255 - a # 灰色图片\n",
    "im = Image.fromarray(c.astype('uint8'))\n",
    "im.save(\"C:/Users/asus-1/Desktop/2020learn/Numpy1/image3.jpg\")"
   ]
  },
  {
   "cell_type": "code",
   "execution_count": null,
   "metadata": {},
   "outputs": [],
   "source": []
  },
  {
   "cell_type": "code",
   "execution_count": 21,
   "metadata": {},
   "outputs": [],
   "source": [
    "a = np.array(Image.open(\"C:/Users/asus-1/Desktop/2020learn/Numpy1/image1.jpg\").convert('L'))\n",
    "d = (100/255)*a + 150 # 区间变换\n",
    "im = Image.fromarray(d.astype('uint8'))\n",
    "im.save(\"C:/Users/asus-1/Desktop/2020learn/Numpy1/image4.jpg\")"
   ]
  },
  {
   "cell_type": "code",
   "execution_count": null,
   "metadata": {},
   "outputs": [],
   "source": []
  },
  {
   "cell_type": "code",
   "execution_count": 22,
   "metadata": {},
   "outputs": [],
   "source": [
    "a = np.array(Image.open(\"C:/Users/asus-1/Desktop/2020learn/Numpy1/image1.jpg\").convert('L'))\n",
    "e = 255*(a/255)**2 # 像素平方\n",
    "im = Image.fromarray(e.astype('uint8'))\n",
    "im.save(\"C:/Users/asus-1/Desktop/2020learn/Numpy1/image5.jpg\")"
   ]
  },
  {
   "cell_type": "code",
   "execution_count": null,
   "metadata": {},
   "outputs": [],
   "source": []
  },
  {
   "cell_type": "code",
   "execution_count": null,
   "metadata": {},
   "outputs": [],
   "source": [
    "图像手绘效果："
   ]
  },
  {
   "cell_type": "code",
   "execution_count": 27,
   "metadata": {},
   "outputs": [],
   "source": [
    "from PIL import Image\n",
    "import numpy as np\n",
    "\n",
    "a = np.array(Image.open('C:/Users/asus-1/Desktop/2020learn/Numpy1/image1.jpg').convert('L')).astype('float')\n",
    "\n",
    "depth = 10.                        #(0-100)\n",
    "grad = np.gradient(a)              #取图像灰度的梯度值\n",
    "grad_x, grad_y = grad              #分别取横纵图像梯度值\n",
    "grad_x = grad_x * depth / 100.\n",
    "grad_y = grad_y * depth / 100.\n",
    "A = np.sqrt(grad_x**2 + grad_y**2 + 1.)\n",
    "uni_x = grad_x / A\n",
    "uni_y = grad_y / A\n",
    "uni_z = 1. / A\n",
    "\n",
    "vec_el = np.pi / 2.2               #光源的俯视角度，弧度值\n",
    "vec_az = np.pi / 4.                #光源的方位角度，弧度值\n",
    "dx = np.cos(vec_el)*np.cos(vec_az) #光源对x轴的影响\n",
    "dy = np.cos(vec_el)*np.sin(vec_az) #光源对y轴的影响\n",
    "dz = np.sin(vec_el)                #光源对z轴的影响\n",
    "b = 255 *( dx * uni_x + dy * uni_y + dz * uni_z ) #光源归一化\n",
    "b = b.clip(0,255)\n",
    "\n",
    "im = Image.fromarray(b.astype('uint8')) #重构图像\n",
    "im.save('C:/Users/asus-1/Desktop/2020learn/Numpy1/imageHD.jpg')\n"
   ]
  },
  {
   "cell_type": "code",
   "execution_count": null,
   "metadata": {},
   "outputs": [],
   "source": []
  }
 ],
 "metadata": {
  "kernelspec": {
   "display_name": "Python 3",
   "language": "python",
   "name": "python3"
  },
  "language_info": {
   "codemirror_mode": {
    "name": "ipython",
    "version": 3
   },
   "file_extension": ".py",
   "mimetype": "text/x-python",
   "name": "python",
   "nbconvert_exporter": "python",
   "pygments_lexer": "ipython3",
   "version": "3.7.6"
  }
 },
 "nbformat": 4,
 "nbformat_minor": 4
}
